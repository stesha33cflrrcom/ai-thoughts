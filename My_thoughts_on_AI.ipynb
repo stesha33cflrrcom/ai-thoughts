{
  "nbformat": 4,
  "nbformat_minor": 0,
  "metadata": {
    "colab": {
      "provenance": [],
      "authorship_tag": "ABX9TyMN7jq62tOrwwVqciSJ1mkL",
      "include_colab_link": true
    },
    "kernelspec": {
      "name": "python3",
      "display_name": "Python 3"
    },
    "language_info": {
      "name": "python"
    }
  },
  "cells": [
    {
      "cell_type": "markdown",
      "metadata": {
        "id": "view-in-github",
        "colab_type": "text"
      },
      "source": [
        "<a href=\"https://colab.research.google.com/github/stesha33cflrrcom/ai-thoughts/blob/main/My_thoughts_on_AI.ipynb\" target=\"_parent\"><img src=\"https://colab.research.google.com/assets/colab-badge.svg\" alt=\"Open In Colab\"/></a>"
      ]
    },
    {
      "cell_type": "code",
      "execution_count": null,
      "metadata": {
        "id": "aDrsl-Yk3aBo"
      },
      "outputs": [],
      "source": []
    },
    {
      "cell_type": "markdown",
      "source": [
        "## Things I want to do with AI\n",
        "\n",
        "          * Have fun\n",
        "          * Take over the world"
      ],
      "metadata": {
        "id": "S_T0lsKg3orn"
      }
    }
  ]
}